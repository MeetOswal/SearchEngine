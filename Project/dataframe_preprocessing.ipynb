{
 "cells": [
  {
   "cell_type": "code",
   "execution_count": 15,
   "id": "e6db0754",
   "metadata": {
    "ExecuteTime": {
     "end_time": "2023-12-25T01:32:49.216880Z",
     "start_time": "2023-12-25T01:32:49.213964Z"
    }
   },
   "outputs": [],
   "source": [
    "import pandas as pd\n",
    "import numpy as np\n",
    "from pathlib import Path"
   ]
  },
  {
   "cell_type": "code",
   "execution_count": 16,
   "id": "fec70f3b",
   "metadata": {
    "ExecuteTime": {
     "end_time": "2023-12-25T01:28:14.326224Z",
     "start_time": "2023-12-25T01:28:07.524743Z"
    }
   },
   "outputs": [],
   "source": [
    "file_path = Path(\"0000.parquet\")\n",
    "\n",
    "# Open the Parquet file\n",
    "df_0 = pd.read_parquet(file_path, engine='pyarrow')\n",
    " \n",
    "file_path = Path(\"0001.parquet\")\n",
    "\n",
    "# Open the Parquet file\n",
    "df_1 = pd.read_parquet(file_path, engine='pyarrow')\n",
    "\n",
    "file_path = Path(\"0002.parquet\")\n",
    "\n",
    "# Open the Parquet file\n",
    "df_2 = pd.read_parquet(file_path, engine='pyarrow')\n",
    "\n",
    "\n",
    "# combine all DF files\n",
    "df = pd.concat([df_0, df_1, df_2], ignore_index=True)\n"
   ]
  },
  {
   "cell_type": "code",
   "execution_count": 20,
   "id": "c279f6d9",
   "metadata": {
    "ExecuteTime": {
     "end_time": "2023-12-25T01:28:14.484642Z",
     "start_time": "2023-12-25T01:28:14.440367Z"
    }
   },
   "outputs": [
    {
     "data": {
      "text/plain": [
       "                                                                                 187705\n",
       "Understanding Genetics                                                             1191\n",
       "Home                                                                                666\n",
       "Diseases & Conditions - Medscape Reference                                          657\n",
       "AmosWEB is Economics: Encyclonomic WEB*pedia                                        556\n",
       "                                                                                  ...  \n",
       "Full Form of DANIDA | FullForms                                                       1\n",
       "Full Form of DB in Electrical | FullForms                                             1\n",
       "Full Form of DMRC | FullForms                                                         1\n",
       "Full Form of HOD | FullForms                                                          1\n",
       "The 20 most important rule changes 2020 | Golf Club | Club de Golf Le Sorcier         1\n",
       "Name: title, Length: 243032, dtype: int64"
      ]
     },
     "execution_count": 20,
     "metadata": {},
     "output_type": "execute_result"
    }
   ],
   "source": [
    "df['title'].value_counts()"
   ]
  },
  {
   "cell_type": "code",
   "execution_count": 21,
   "id": "4a6805bd",
   "metadata": {},
   "outputs": [
    {
     "name": "stdout",
     "output_type": "stream",
     "text": [
      "243032\n"
     ]
    }
   ],
   "source": [
    "# Current Unique Values in the title column\n",
    "print(df['title'].nunique())"
   ]
  },
  {
   "cell_type": "code",
   "execution_count": 22,
   "id": "b615a4bb",
   "metadata": {
    "ExecuteTime": {
     "end_time": "2023-12-25T01:28:16.263526Z",
     "start_time": "2023-12-25T01:28:14.485477Z"
    }
   },
   "outputs": [],
   "source": [
    "# Set initial values\n",
    "replace = 0 # Value to fill empty titles\n",
    "increment = False  # Flag to track whether the replace has been incremented\n",
    "\n",
    "# Loop through each row in the 'title' column of the DataFrame\n",
    "for i in range(len(df['title'])):\n",
    "    # Check if the title in the current row is empty\n",
    "    if df.at[i, 'title'] == '':\n",
    "        # If empty, fill the title with the replace\n",
    "        df.at[i, 'title'] = replace\n",
    "        increment = False # Reset the increment flag\n",
    "     # If the title is not empty and the increment hasn't been done yet    \n",
    "    elif not increment:\n",
    "        # Increment the replace by 1\n",
    "        replace += 1\n",
    "        increment = True # Set the increment flag to True"
   ]
  },
  {
   "cell_type": "code",
   "execution_count": 23,
   "id": "73b7d784",
   "metadata": {
    "ExecuteTime": {
     "end_time": "2023-12-25T01:28:16.269835Z",
     "start_time": "2023-12-25T01:28:16.264322Z"
    }
   },
   "outputs": [
    {
     "name": "stdout",
     "output_type": "stream",
     "text": [
      "253344\n"
     ]
    }
   ],
   "source": [
    "# df\n",
    "print(df['title'].nunique())"
   ]
  },
  {
   "cell_type": "code",
   "execution_count": 24,
   "id": "beb25d5b",
   "metadata": {
    "ExecuteTime": {
     "end_time": "2023-12-25T01:28:16.310452Z",
     "start_time": "2023-12-25T01:28:16.270671Z"
    }
   },
   "outputs": [
    {
     "data": {
      "text/plain": [
       "5746                                                                             2210\n",
       "4703                                                                             1528\n",
       "Understanding Genetics                                                           1191\n",
       "1453                                                                             1011\n",
       "901                                                                               826\n",
       "                                                                                 ... \n",
       "Black Baby Boy Names Starting With \"S\"                                              1\n",
       "Black Baby Boy Names Starting With \"M\"                                              1\n",
       "Black Baby Boy Names Starting With \"J\"                                              1\n",
       "Black Baby Boy Names Starting With \"D\"                                              1\n",
       "The 20 most important rule changes 2020 | Golf Club | Club de Golf Le Sorcier       1\n",
       "Name: title, Length: 253344, dtype: int64"
      ]
     },
     "execution_count": 24,
     "metadata": {},
     "output_type": "execute_result"
    }
   ],
   "source": [
    "df['title'].value_counts()"
   ]
  },
  {
   "cell_type": "code",
   "execution_count": 25,
   "id": "fb78df96",
   "metadata": {
    "ExecuteTime": {
     "end_time": "2023-12-25T01:28:16.353758Z",
     "start_time": "2023-12-25T01:28:16.311285Z"
    }
   },
   "outputs": [
    {
     "name": "stdout",
     "output_type": "stream",
     "text": [
      "Empty DataFrame\n",
      "Columns: [_id, title, text, emb]\n",
      "Index: []\n"
     ]
    }
   ],
   "source": [
    "column_name = 'title'\n",
    "\n",
    "rows_with_empty_column = df[df[column_name].isnull() | (df[column_name] == '')]\n",
    "\n",
    "print(rows_with_empty_column)"
   ]
  },
  {
   "cell_type": "code",
   "execution_count": 26,
   "id": "02998fc1",
   "metadata": {
    "ExecuteTime": {
     "end_time": "2023-12-25T01:30:09.190222Z",
     "start_time": "2023-12-25T01:30:09.185877Z"
    }
   },
   "outputs": [
    {
     "data": {
      "text/plain": [
       "Index(['_id', 'title', 'text', 'emb'], dtype='object')"
      ]
     },
     "execution_count": 26,
     "metadata": {},
     "output_type": "execute_result"
    }
   ],
   "source": [
    "df.columns"
   ]
  },
  {
   "cell_type": "code",
   "execution_count": 27,
   "id": "22a68f89",
   "metadata": {},
   "outputs": [
    {
     "name": "stdout",
     "output_type": "stream",
     "text": [
      "_id                                               00_19909\n",
      "title                                                    1\n",
      "text     If you know the application which can open 000...\n",
      "emb      [-0.0044555664, -0.03817749, 0.05883789, 0.031...\n",
      "Name: 45, dtype: object\n"
     ]
    }
   ],
   "source": [
    "print(df.iloc[45])"
   ]
  },
  {
   "cell_type": "code",
   "execution_count": 28,
   "id": "9c620223",
   "metadata": {
    "ExecuteTime": {
     "end_time": "2023-12-25T01:32:53.821759Z",
     "start_time": "2023-12-25T01:32:52.682278Z"
    }
   },
   "outputs": [
    {
     "data": {
      "text/plain": [
       "title                                                    1\n",
       "emb      [0.055311203, -0.17642975, 0.20465851, -0.0252...\n",
       "Name: 0, dtype: object"
      ]
     },
     "execution_count": 28,
     "metadata": {},
     "output_type": "execute_result"
    }
   ],
   "source": [
    "# Group by 'title' and sum the 'emb' values element-wise\n",
    "modified_df = df.groupby('title')['emb'].agg(np.sum).reset_index()\n",
    "modified_df.iloc[0]"
   ]
  },
  {
   "cell_type": "code",
   "execution_count": 29,
   "id": "cb64ca70",
   "metadata": {},
   "outputs": [
    {
     "data": {
      "text/plain": [
       "title                                                    1\n",
       "text     If you know the application which can open 000...\n",
       "Name: 0, dtype: object"
      ]
     },
     "execution_count": 29,
     "metadata": {},
     "output_type": "execute_result"
    }
   ],
   "source": [
    "modified_df_2 = df.groupby('title')['text'].agg(lambda x: ' '.join(x)).reset_index()\n",
    "modified_df_2.iloc[0]"
   ]
  },
  {
   "cell_type": "code",
   "execution_count": 30,
   "id": "8de15d6c",
   "metadata": {
    "ExecuteTime": {
     "end_time": "2023-12-25T01:32:54.483709Z",
     "start_time": "2023-12-25T01:32:54.462036Z"
    }
   },
   "outputs": [],
   "source": [
    "# Save the modified DataFrame to a pickle file with a filename based on the original file's stem\n",
    "modified_df.to_pickle(f\"modified_{file_path.stem}.pkl\")\n",
    "# Delete the modified DataFrame to free up memory\n",
    "del modified_df"
   ]
  },
  {
   "cell_type": "code",
   "execution_count": 31,
   "id": "c1063aa3",
   "metadata": {},
   "outputs": [],
   "source": [
    "# Save the modified DataFrame to a pickle file with a filename based on the original file's stem\n",
    "modified_df_2.to_pickle(f\"modified_text_{file_path.stem}.pkl\")\n",
    "# Delete the modified DataFrame to free up memory\n",
    "del modified_df_2\n",
    "del df"
   ]
  },
  {
   "cell_type": "code",
   "execution_count": null,
   "id": "800400d6",
   "metadata": {},
   "outputs": [],
   "source": []
  },
  {
   "cell_type": "code",
   "execution_count": null,
   "id": "866e5e45",
   "metadata": {},
   "outputs": [],
   "source": []
  }
 ],
 "metadata": {
  "kernelspec": {
   "display_name": "Python 3 (ipykernel)",
   "language": "python",
   "name": "python3"
  },
  "language_info": {
   "codemirror_mode": {
    "name": "ipython",
    "version": 3
   },
   "file_extension": ".py",
   "mimetype": "text/x-python",
   "name": "python",
   "nbconvert_exporter": "python",
   "pygments_lexer": "ipython3",
   "version": "3.11.4"
  }
 },
 "nbformat": 4,
 "nbformat_minor": 5
}
